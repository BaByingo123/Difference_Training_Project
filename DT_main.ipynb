{
 "cells": [
  {
   "cell_type": "code",
   "execution_count": 7,
   "metadata": {},
   "outputs": [],
   "source": [
    "import tensorflow as tf\n",
    "import numpy as np\n",
    "import pandas as pd\n",
    "import csv\n",
    "import matplotlib.pyplot as plt\n",
    "import random\n",
    "import time\n",
    "from sklearn import manifold\n",
    "\n",
    "#Building model\n",
    "from keras.models import Sequential\n",
    "from keras.layers import Dense\n",
    "\n",
    "from keras import layers\n",
    "from keras.models import Model\n",
    "\n",
    "#Outlier method\n",
    "from Outlier_Detection.pyod.pyod.models.abod import ABOD \n"
   ]
  },
  {
   "cell_type": "markdown",
   "metadata": {},
   "source": [
    "# 1. Pre-processing"
   ]
  },
  {
   "cell_type": "code",
   "execution_count": 8,
   "metadata": {},
   "outputs": [
    {
     "name": "stderr",
     "output_type": "stream",
     "text": [
      "<ipython-input-8-1d2ee4f612d9>:26: SettingWithCopyWarning: \n",
      "A value is trying to be set on a copy of a slice from a DataFrame\n",
      "\n",
      "See the caveats in the documentation: https://pandas.pydata.org/pandas-docs/stable/user_guide/indexing.html#returning-a-view-versus-a-copy\n",
      "  data[\"label\"][i] = 1\n"
     ]
    }
   ],
   "source": [
    "input_path = \"./CY_Dataset/2021_04_21_test/2021_04_21_test.csv\"\n",
    "output_path = \"./CY_Dataset/2021_04_21_test/\"\n",
    "\n",
    "#設定顯示到小數點後第幾位 (可以不用設，實際還是保留原本長度，只是顯示上會變短)\n",
    "#pd.options.display.float_format = '{:.16f}'.format\n",
    "\n",
    "#讀檔 (header需設為 None，預設以 index 0 為欄位名稱)\n",
    "data = pd.read_csv(input_path,header=None)\n",
    "\n",
    "#自定義 欄位名稱\n",
    "column = [\"file_name\",\"f_1\",\"f_2\",\"f_3\",\"f_4\",\"f_5\",\"f_6\",\"f_7\",\"f_8\",\"f_9\",\"f_10\",\"label\"]\n",
    "data.columns = column\n",
    "\n",
    "#正規化 -> 把不是 0 (false) 的全部變成 1 (true)，並產生一個新的 csv 。\n",
    "with open(output_path + \"test_regular.csv\", 'w', newline='') as csvfile:\n",
    "    \n",
    "    writer = csv.writer(csvfile)\n",
    "    \n",
    "    #寫入欄位名稱\n",
    "    writer.writerow(column)  \n",
    "    \n",
    "    for i in range(len(data)):\n",
    "        \n",
    "        if(data[\"label\"][i] != 0):         #找出不是 0 的 label 值\n",
    "            \n",
    "            data[\"label\"][i] = 1\n",
    "\n",
    "        writer.writerow(data.loc[i])\n"
   ]
  },
  {
   "cell_type": "markdown",
   "metadata": {},
   "source": [
    "# 2. Noisy Data"
   ]
  },
  {
   "cell_type": "code",
   "execution_count": 32,
   "metadata": {},
   "outputs": [
    {
     "name": "stdout",
     "output_type": "stream",
     "text": [
      "noisy rate : 0.20631\n",
      "[7826, 7346, 2285, 6219, 9557, 13009, 6169, 4162, 1466, 8162, 6925, 2626, 8859, 13922, 5956, 3114, 2113, 2503, 8325, 6912, 6457, 10626, 8772, 7997, 2755, 9697, 8014, 10639, 12654, 12443, 8979, 13981, 6856, 2954, 2921, 6806, 8756, 11903, 10982, 13034, 6871, 2337, 11510, 13427, 4635, 10374, 7849, 11725, 10573, 10243, 10530, 12535, 3316, 8888, 6926, 1470, 10748, 1853, 3187, 7777, 3509, 4931, 6805, 7302, 10221, 13524, 5541, 6917, 8691, 5844, 3527, 9640, 1187, 2404, 3064, 3492, 8876, 12942, 13399, 5657, 4156, 12128, 6490, 6107, 13601, 13478, 12210, 10301, 9089, 10558, 1756, 12675, 9052, 11563, 12211, 11428, 12538, 6281, 11921, 12588, 11520, 5543, 13161, 8621, 10090, 5694, 9179, 1077, 2323, 2346, 7478, 164, 1430, 11634, 5015, 10592, 9273, 7268, 7891, 12300, 10099, 3554, 2295, 8748, 3727, 6635, 13019, 3198, 11267, 136, 12524, 12030, 6585, 5615, 1251, 10590, 6462, 281, 5217, 12219, 6995, 3513, 13574, 5379, 10605, 5188, 14160, 9053, 1626, 2904, 11792, 11723, 7761, 4550, 9049, 5118, 3982, 4147, 11570, 12097, 3789, 796, 3295, 6697, 8381, 6012, 10404, 14181, 5985, 8985, 8152, 1789, 6011, 10976, 8352, 12112, 6269, 11060, 3071, 7434, 8541, 1721, 33, 8612, 8427, 13265, 7657, 7726, 422, 12116, 13216, 1793, 5385, 7250, 11234, 3743, 7696, 93, 1155, 10633, 11947, 804, 9613, 13193, 1359, 10736, 3781, 10513, 12656, 13223, 12016, 2757, 4445, 14295, 10776, 7794, 6364, 14197, 4762, 737, 6583, 10211, 7181, 12853, 4223, 7600, 14113, 679, 225, 6277, 861, 13914, 6724, 5414, 6461, 8259, 13459, 10915, 13679, 5811, 9263, 3098, 7994, 14450, 3933, 5411, 6723, 3012, 3212, 12592, 9509, 1125, 5210, 6990, 7558, 4469, 13986, 5423, 1451, 5035, 3461, 1044, 8857, 11700, 4124, 9707, 7940, 9068, 12667, 8694, 9482, 3525, 6525, 5082, 3401, 8626, 1373, 8906, 10396, 7392, 616, 14540, 5756, 4941, 14535, 11899, 284, 8492, 470, 10475, 6971, 2586, 2965, 4904, 4851, 2968, 12615, 12444, 4464, 6335, 8967, 5097, 4149, 12395, 3755, 12482, 7021, 7379, 8303, 10532, 4428, 14037, 675, 91, 10290, 1070, 3713, 1633, 2434, 8722, 6581, 5788, 10300, 5598, 6412, 10951, 265, 4474, 13048, 12881, 10359, 10974, 13861, 12723, 9010, 11464, 1964, 6327, 3488, 11820, 13916, 5608, 699, 2526, 1834, 4995, 438, 10380, 7783, 594, 11220, 1814, 13248, 10617, 876, 9055, 9566, 13441, 881, 2853, 8880, 4923, 6563, 7365, 13208, 7901, 9377, 3260, 4298, 6753, 12409, 2529, 5304, 4494, 6568, 1348, 1419, 5282, 7479, 4838, 3856, 6813, 14053, 12329, 13428, 13638, 12018, 5469, 8263, 5294, 7067, 313, 13032, 1352, 3812, 13790, 1200, 4735, 8848, 10729, 7665, 13765, 3290, 1634, 676, 160, 12338, 9974, 5137, 12825, 2697, 5796, 13692, 10995, 4230, 7427, 1904, 9819, 13015, 1981, 4544, 5669, 7839, 6137, 3448, 11595, 1705, 7959, 7116, 14228, 1871, 13635, 9099, 4436, 3181, 8697, 9006, 13257, 6069, 13469, 14208, 868, 11257, 3845, 4641, 1641, 12068, 13761, 2596, 410, 1767, 7618, 4602, 12478, 7915, 9686, 11491, 11094, 12106, 12618, 2140, 12710, 6182, 11217, 10086, 7591, 6703, 1728, 6714, 11235, 10463, 2408, 499, 5251, 3374, 9870, 8573, 9578, 13788, 2008, 9969, 4261, 4500, 1384, 11360, 2880, 9013, 8760, 5951, 7192, 10443, 1480, 3364, 2800, 6162, 5933, 12847, 13578, 2850, 563, 9556, 12227, 8714, 3861, 7982, 9670, 9575, 1909, 1193, 7171, 8766, 3456, 6174, 11747, 12785, 12754, 8190, 10383, 7906, 12473, 4991, 10342, 7294, 1831, 12550, 12849, 1791, 9767, 6670, 12586, 9558, 8578, 7111, 7824, 13844, 14071, 11827, 7356, 9614, 10603, 5797, 11170, 486, 9834, 697, 2051, 9353, 6480, 7004, 10469, 11955, 13126, 13205, 6015, 14349, 473, 8783, 5779, 1487, 286, 6902, 343, 257, 1397, 12610, 10500, 12195, 795, 2218, 6860, 10978, 7538, 1207, 5258, 7593, 12317, 13230, 3092, 5618, 972, 6338, 1971, 10231, 736, 8084, 7750, 9105, 9189, 14292, 3927, 6265, 11385, 4852, 401, 9138, 5539, 7916, 4895, 8384, 5914, 3913, 10567, 13902, 10900, 1219, 4168, 11321, 1257, 9177, 11432, 3248, 1640, 2421, 1650, 6596, 3890, 9046, 1445, 9561, 12884, 4690, 5499, 10476, 10219, 12474, 14384, 10980, 4121, 5644, 9687, 3344, 10816, 12638, 12135, 12276, 1940, 3238, 3836, 1361, 8386, 13823, 435, 641, 645, 12943, 8353, 14214, 9604, 5202, 13277, 9326, 7083, 14119, 2271, 4222, 970, 14061, 1231, 1329, 10904, 9133, 4832, 9856, 109, 12348, 4202, 76, 1290, 9387, 9292, 1180, 7382, 891, 906, 8495, 9011, 3977, 5434, 12516, 2907, 2537, 3799, 1115, 1450, 14414, 9021, 3867, 8374, 10777, 2396, 13064, 13490, 6639, 2977, 334, 4191, 12634, 7185, 5040, 8567, 2007, 7437, 5219, 5504, 428, 9441, 9143, 10414, 89, 9269, 3481, 8330, 9836, 6045, 3536, 1517, 5556, 9891, 10913, 3592, 7568, 2897, 4297, 12796, 5069, 6775, 13246, 2879, 2893, 3477, 2742, 11812, 1602, 11344, 8566, 10260, 12866, 12607, 10398, 14056, 9902, 9173, 2565, 533, 8356, 11984, 10429, 14285, 4564, 457, 13438, 4629, 483, 1478, 6788, 4707, 124, 8739, 8050, 7522, 3406, 9167, 3785, 3157, 3777, 2164, 13145, 9306, 9524, 12612, 755, 5930, 11915, 14099, 1538, 12871, 8716, 9429, 13073, 12272, 6014, 14465, 7244, 8221, 12489, 14357, 8008, 8088, 366, 516, 6512, 11337, 13957, 54, 14249, 13598, 14519, 10362, 13687, 10079, 11178, 11564, 6840, 9495, 8423, 7698, 9474, 2092, 2569, 2438, 7106, 6851, 4311, 5038, 4018, 941, 10892, 12738, 9735, 2341, 662, 4316, 13071, 3059, 10281, 2581, 10075, 4069, 11767, 260, 6178, 5393, 6010, 935, 5439, 7535, 10679, 996, 3730, 9726, 5957, 3844, 2928, 13395, 6520, 1189, 951, 5750, 12080, 11710, 3158, 5581, 11357, 10032, 13959, 13497, 4856, 6350, 1621, 3124, 6653, 14378, 9814, 10371, 3436, 1291, 2388, 10439, 5882, 4774, 12001, 472, 2560, 2579, 14325, 4942, 8, 8803, 11657, 8487, 8570, 9829, 10328, 5630, 7029, 9320, 500, 8677, 13931, 3531, 1622, 1108, 9420, 9071, 4099, 12924, 14522, 3458, 3375, 376, 4858, 2616, 11994, 11557, 5501, 1638, 7945, 6636, 11504, 6233, 1786, 10497, 8681, 9733, 3413, 12539, 10421, 8817, 10339, 13651, 9727, 12818, 10716, 7419, 4537, 3216, 11624, 2756, 793, 11890, 14438, 1991, 8671, 14161, 5487, 11850, 10473, 4079, 5595, 5655, 2950, 14503, 2672, 10636, 8178, 10167, 3090, 143, 6897, 14091, 2118, 3177, 10717, 10085, 13785, 10927, 9383, 3613, 199, 7649, 2170, 5578, 723, 8944, 9448, 12430, 13917, 2394, 4120, 6078, 1879, 11885, 13834, 10188, 1689, 5068, 10505, 7342, 8193, 5927, 9658, 14379, 5686, 8181, 7248, 12631, 11869, 9746, 6748, 8433, 12823, 878, 2343, 6247, 1681, 6637, 6887, 1023, 3485, 10088, 10013, 6984, 13645, 8137, 9373, 586, 1937, 323, 3179, 13811, 1619, 12141, 3888, 12105, 7433, 9061, 8785, 3938, 8611, 11546, 4716, 6235, 1429, 1232, 11836, 9228, 9087, 12119, 12541, 2014, 11846, 6448, 10692, 1337, 5915, 548, 8661, 12117, 4073, 4818, 8438, 8116, 11756, 957, 50, 9505, 2288, 11163, 5514, 7838, 1017, 3499, 9638, 8192, 7137, 10890, 3450, 13104, 9484, 4654, 11622, 13322, 8973, 9615, 415, 5143, 12914, 13393, 8929, 3236, 4559, 3351, 3759, 4577, 2160, 13065, 10661, 550, 10317, 5328, 11108, 11857, 2574, 539, 10412, 568, 5120, 11882, 5856, 5194, 6698, 10867, 12181, 1720, 12833, 1010, 3581, 4322, 2190, 12925, 14141, 5971, 4067, 5415, 4248, 12770, 8585, 6161, 3807, 1815, 4055, 14433, 9782, 4779, 5391, 7970, 364, 1596, 11227, 8166, 7647, 3846, 11910, 10437, 5135, 9750, 4843, 8350, 4932, 330, 7301, 7312, 13710, 13604, 4961, 13240, 12127, 6256, 14362, 3043, 11793, 10832, 6577, 7295, 6789, 8977, 1792, 10770, 6454, 62, 10583, 4448, 10999, 13983, 10424, 7031, 10877, 1961, 1321, 6779, 8632, 5146, 4937, 1710, 567, 2795, 11580, 1258, 5066, 10276, 8213, 6393, 7200, 3840, 7223, 4877, 11161, 167, 11039, 7693, 11003, 3566, 814, 2898, 3974, 7902, 1604, 13131, 5853, 3960, 10992, 11893, 11247, 2009, 13474, 3046, 3896, 9153, 853, 4604, 1473, 10168, 6297, 12488, 5683, 331, 6214, 12585, 40, 2093, 9080, 521, 9758, 5465, 8556, 2744, 3349, 3274, 12578, 5937, 9752, 13831, 10742, 14078, 12865, 13439, 345, 12297, 8749, 13283, 12855, 6275, 12957, 13411, 3733, 2971, 10038, 5224, 4533, 4612, 7749, 11695, 2078, 10984, 8058, 11414, 11253, 6793, 11141, 7736, 2168, 4371, 13288, 3452, 11330, 2358, 9530, 13495, 11295, 1687, 10710, 3790, 2405, 12800, 2650, 6891, 12496, 5701, 6079, 12909, 11102, 13971, 10259, 1014, 5641, 12912, 4785, 7880, 12379, 12321, 10315, 11300, 13293, 10151, 8545, 10163, 9332, 1976, 9340, 1171, 10993, 6649, 8176, 3019, 7539, 1330, 14492, 11034, 639, 5737, 999, 7509, 228, 10060, 1748, 13619, 8347, 826, 13138, 11191, 6836, 13580, 9661, 8833, 8415, 7960, 3186, 14163, 11019, 7471, 9985, 11639, 6044, 13587, 10882, 9078, 7045, 2760, 8472, 5133, 6526, 3889, 1353, 5166, 12629, 13526, 7446, 5281, 7708, 3695, 3182, 13261, 5821, 5782, 5497, 12380, 544, 3999, 1012, 9103, 6657, 10185, 6553, 5036, 10035, 14376, 5720, 1956, 4701, 2541, 12408, 13124, 6232, 6218, 10401, 4052, 2261, 12243, 781, 6238, 5189, 10862, 9574, 12471, 8634, 11177, 14232, 4725, 9458, 928, 898, 5738, 10304, 9866, 2237, 9192, 701, 12598, 3971, 11990, 7432, 5314, 13170, 5365, 13319, 4339, 10176, 10972, 5815, 1026, 9478, 14252, 7293, 10849, 5901, 1511, 3930, 3470, 10365, 6731, 11729, 10299, 8019, 6931, 359, 14516, 12685, 3103, 102, 3068, 4224, 1903, 794, 2189, 11373, 6609, 5568, 7473, 6002, 1542, 13218, 9299, 10309, 11413, 10672, 4109, 434, 4093, 3895, 10, 4975, 7046, 8037, 2713, 6845, 12563, 751, 3615, 12573, 1120, 11835, 5625, 11606, 5195, 3951, 3901, 9025, 6797, 12428, 8759, 6760, 12650, 6423, 2374, 7758, 14105, 9457, 4404, 5917, 11105, 12350, 3094, 5534, 886, 8034, 7284, 159, 12151, 5859, 14415, 9906, 6968, 13251, 3708, 9717, 4258, 6043, 241, 9541, 5868, 13307, 2369, 4430, 8113, 9369, 9259, 11210, 1700, 7053, 3388, 2049, 10436, 14437, 7570, 9667, 3533, 7858, 5939, 4485, 5819, 10541, 583, 4565, 12035, 5544, 12442, 2538, 518, 7389, 10283, 6514, 561, 11051, 13410, 8620, 6570, 4324, 5347, 14291, 12960, 7125, 1739, 1283, 8947, 10857, 7222, 14405, 12433, 10800, 11071, 13888, 9569, 2700, 1533, 1762, 14016, 13749, 7738, 2270, 8616, 4970, 8302, 2609, 7049, 8035, 2026, 7592, 7201, 12962, 8111, 3650, 2239, 13394, 14230, 9518, 1894, 325, 7801, 3140, 569, 9028, 11037, 6449, 11799, 6230, 13311, 4826, 10772, 5482, 14275, 9997, 4116, 4049, 111, 9545, 6592, 10256, 9988, 9290, 13721, 7876, 14162, 9376, 11488, 10643, 3679, 716, 3106, 12403, 13640, 2925, 8410, 8104, 9196, 11642, 11162, 2176, 9899, 1457, 14219, 11582, 964, 201, 7765, 7191, 4900, 3672, 12124, 10479, 1975, 6120, 8271, 3635, 5697, 2723, 1592, 7733, 5529, 2082, 2594, 12076, 4726, 11709, 3403, 13356, 6900, 8098, 5587, 9994, 2561, 8334, 4281, 408, 6228, 5840, 484, 2244, 13282, 4170, 13494, 11898, 10194, 872, 13550, 10826, 5812, 8718, 13191, 10902, 12374, 12804, 8030, 4279, 2852, 6381, 13518, 13808, 12298, 13503, 2137, 8339, 2807, 13400, 4702, 10068, 4277, 5526, 8682, 4142, 13212, 12492, 10815, 14495, 2277, 11897, 12885, 13228, 11006, 830, 5538, 8067, 9476, 383, 3842, 7350, 3086, 12368, 11422, 10700, 13010, 2326, 10846, 9759, 1244, 13168, 14281, 1703, 11839, 14106, 8719, 5892, 8555, 4916, 11029, 11456, 3555, 11931, 3358, 4125, 3410, 7500, 597, 4807, 4399, 13777, 7791, 5681, 7366, 5026, 7944, 14215, 7472, 14255, 6625, 4020, 1630, 10589, 99, 13252, 2296, 11290, 11374, 10708, 7999, 4977, 11151, 13487, 4884, 14168, 696, 5754, 8153, 1847, 5733, 3164, 12074, 1708, 14102, 6300, 5629, 14442, 8087, 779, 4490, 10645, 9136, 4715, 1261, 1553, 3463, 12023, 959, 6378, 8646, 11477, 14277, 10718, 8663, 3857, 2019, 8285, 9737, 13729, 4511, 2129, 4623, 1236, 2269, 1556, 1947, 8383, 5002, 4849, 1135, 12268, 13244, 2516, 8400, 9157, 1558, 11368, 208, 8447, 11533, 6958, 10719, 10556, 5403, 9721, 2572, 761, 13649, 14263, 12927, 2676, 6380, 7212, 10689, 8690, 1783, 6302, 12167, 12620, 1676, 4178, 4044, 9892, 10174, 2812, 9335, 7283, 14434, 9776, 4377, 4287, 6807, 6529, 6575, 7867, 4514, 12939, 3912, 7157, 14072, 2884, 10765, 6834, 1865, 4865, 6158, 2460, 4220, 14068, 6722, 1150, 12017, 280, 12457, 4372, 3874, 2646, 7442, 9371, 7642, 3758, 11644, 12841, 11302, 4391, 13762, 12936, 11980, 7424, 12254, 5843, 9238, 10644, 13213, 1886, 11832, 7423, 13416, 1908, 6081, 10407, 14529, 11185, 13498, 5867, 4089, 5197, 9150, 4530, 13012, 9786, 8278, 867, 7705, 8699, 14138, 8807, 7311, 3539, 607, 2066, 1260, 12575, 5392, 11043, 11517, 9149, 13595, 11962, 9768, 4256, 2784, 13562, 7003, 11291, 7967, 10053, 264, 6456, 9131, 6573, 864, 5799, 9710, 1770, 140, 7850, 12630, 5885, 9151, 13431, 5507, 10237, 11549, 7533, 9303, 11608, 7786, 10931, 13856, 8895, 5661, 4840, 5312, 5586, 8588, 9067, 1764, 9676, 6650, 515, 8710, 2864, 8315, 3275, 4919, 8376, 9428, 12778, 13662, 2262, 9515, 2455, 13501, 6880, 12959, 3872, 1585, 6421, 6907, 7051, 11583, 427, 6052, 13422, 9683, 7966, 8043, 2621, 11375, 12718, 3253, 9058, 11458, 13724, 10888, 12324, 3214, 2846, 2838, 4874, 8036, 1197, 12393, 11124, 234, 9380, 9823, 1246, 5071, 8988, 9922, 4115, 12840, 6223, 10263, 9479, 4810, 9930, 2481, 7123, 1537, 9187, 11052, 8894, 3894, 13403, 8009, 11780, 6822, 8219, 14453, 8832, 815, 6882, 10801, 8599, 14030, 6204, 13826, 7996, 413, 11685, 11834, 4855, 12729, 4578, 12845, 11213, 7692, 2420, 3827, 14049, 6352, 5064, 14087, 7878, 5839, 6759, 8462, 12066, 5675, 8456, 13992, 14267, 9875, 5117, 8336, 8003, 3074, 3808, 7514, 7361, 14210, 7513, 6715, 6365, 4708, 14186, 13030, 574, 3147, 11384, 8911, 58, 5727, 7229, 12671, 309, 7132, 12771, 14416, 915, 10840, 14153, 12002, 13169, 8717, 6191, 8909, 1449, 11288, 3023, 12327, 6004, 2144, 5591, 6768, 2914, 3804, 9858, 13950, 12159, 1442, 10620, 6552, 14391, 9907, 6306, 14154, 8640, 9498, 797, 7403, 9023, 9904, 181, 1289, 943, 4883, 9795, 195, 1360, 4361, 10293, 8889, 7057, 2383, 12490, 5841, 8267, 477, 273, 13739, 1723, 8575, 1996, 10016, 12759, 6814, 13722, 6288, 7663, 10698, 3994, 12600, 8980, 7862, 13546, 8249, 7925, 1013, 7391, 7026, 8916, 8282, 11936, 13633, 10526, 2618, 6296, 10502, 4208, 11027, 10334, 4516, 5886, 6313, 7259, 9700, 12649, 2545, 8563, 8281, 7142, 10066, 11179, 3292, 3568, 4386, 5007, 11204, 10291, 9677, 11013, 13932, 11524, 10886, 13455, 7466, 169, 4835, 9487, 1608, 11298, 6681, 4489, 4829, 10312, 1581, 11877, 4913, 10811, 4043, 14146, 5913, 13864, 11982, 3099, 13016, 11889, 8112, 1846, 12020, 9016, 4475, 9546, 14143, 3294, 3858, 5223, 6580, 12412, 9313, 7193, 5226, 3093, 2580, 4017, 13933, 1777, 10028, 0, 13936, 9395, 110, 12911, 9451, 13623, 2445, 6452, 2079, 10512, 11521, 3196, 2644, 128, 14514, 14125, 13082, 838, 6271, 3478, 2229, 10778, 3113, 7364, 5500, 4267, 5508, 12043, 7667, 5184, 969, 13613, 4462, 14266, 11081, 13452, 5261, 299, 989, 12714, 197, 7715, 7205, 12180, 3880, 3425, 2817, 8201, 8200, 14403, 14314, 6991, 11242, 8224, 3633, 2263, 8341, 1346, 9418, 7101, 7103, 8768, 11457, 9847, 3843, 9793, 6499, 13091, 3518, 7556, 7557, 7071, 13103, 9813, 7206, 8106, 14127, 7269, 12222, 11973, 12205, 2300, 10962, 9356, 8685, 5478, 11692, 8797, 10810, 9302, 6091, 13873, 13632, 12698, 4411, 103, 1114, 7624, 3851, 10116, 12687, 9995, 1773, 11026, 5552, 4122, 5067, 2133, 9660, 13728, 13089, 8542, 3762, 7104, 7884, 4128, 885, 6138, 11284, 7958, 3261, 115, 7148, 3728, 4496, 12965, 12315, 5037, 7188, 12099, 12988, 378, 11025, 14167, 14114, 8704, 7422, 6535, 12790, 2412, 14460, 227, 1809, 10656, 8310, 6145, 6716, 13685, 13476, 581, 8519, 13187, 3585, 447, 9755, 11506, 746, 570, 3016, 1877, 11632, 13159, 12789, 11133, 6194, 13843, 1067, 605, 10991, 13102, 4387, 3091, 902, 13309, 5144, 10249, 11466, 11790, 7703, 8239, 13744, 10520, 6830, 7463, 5297, 2927, 2875, 4266, 10073, 7290, 328, 12700, 11462, 2964, 12229, 5679, 11575, 14383, 3304, 12280, 1421, 5476, 2957, 2382, 953, 12953, 8863, 7573, 2517, 11913, 5450, 12554, 1483, 575, 8501, 13531, 4064, 5383, 3941, 3006, 13700, 11265, 12296, 9772, 12082, 11248, 13867, 2183, 13569, 2081, 9935, 13548, 2984, 2707, 11421, 8346, 5871, 5238, 13769, 4825, 5528, 10177, 1335, 9739, 6586, 14406, 934, 11851, 4197, 8892, 5422, 12207, 1042, 9156, 2477, 8254, 7333, 8508, 8747, 10947, 4458, 12311, 9508, 12676, 7299, 5585, 6346, 11550, 5991, 4071, 5950, 3989, 4429, 8507, 3022, 1701, 11231, 2563, 5708, 2943, 8551, 12184, 1223, 3173, 10910, 13670, 920, 1130, 13308, 5963, 11712, 2179, 3766, 5988, 6130, 10164, 13254, 3270, 11560, 4204, 4009, 14427, 12852, 13176, 11905, 8165, 9260, 1732, 10574, 9368, 870, 14150, 7932, 5757, 9030, 3393, 5692, 11389, 9056, 4580, 10533, 9241, 7525, 4876, 14310, 8594, 4034, 12231, 10199, 5375, 661, 3698, 11944, 7007, 8676, 8799, 6963, 4472, 11512, 6727, 7429, 11602, 12426, 3498, 117, 4036, 2509, 11103, 3869, 13242, 13565, 7491, 4605, 12964, 10406, 9321, 9328, 6999, 1842, 5893, 2493, 8535, 6411, 14487, 9342, 1126, 6055, 202, 7810, 14401, 12464, 9205, 13353, 10754, 12694, 3670, 2442, 9675, 4799, 11730, 6559, 5042, 178, 4587, 6386, 3771, 1590, 2020, 9729, 4897, 7702, 13758, 9654, 2479, 10036, 4584, 2781, 6141, 12013, 8986, 3075, 10405, 7182, 3608, 13044, 13055, 13363, 10595, 9248, 7673, 7252, 10552, 2826, 11218, 2355, 631, 11009, 13731, 3510, 5353, 13443, 13530, 7177, 5656, 8564, 5765, 9501, 8850, 5113, 2319, 2571, 998, 5027, 6095, 8404, 8864, 14425, 1143, 13567, 5992, 8372, 900, 335, 9029, 1087, 90, 7485, 9134, 5928, 14070, 1819, 13326, 7804, 910, 10008, 11963, 11387, 8912, 3887, 11350, 12103, 6160, 8523, 8332, 5628, 11467, 8207, 13803, 2314, 10907, 8026, 10117, 12929, 4447, 2510, 11607, 10527, 8452, 8901, 8184, 11047, 13018, 12589, 5093, 11279, 7946, 1226, 904, 11838, 6746, 12138, 4644, 253, 344, 2488, 10496, 3440, 3317, 9567, 7073, 5084, 10773, 8136, 7531, 327, 9090, 329, 14155, 9559, 8441, 11412, 1677, 14375, 847, 24, 14307, 5818, 13361, 11313, 13351, 8886, 9411, 11283, 4610, 7495, 14227, 4556, 8891, 5178, 3501, 13063, 4927, 13860, 659, 4501, 1412, 846, 8502, 5726, 13695, 8808, 2729, 9868, 13496, 2523, 353, 12215, 939, 8586, 13294, 5589, 4359, 1380, 12608, 3426, 12781, 2149, 12189, 3109, 1162, 13114, 13549, 2451, 13677, 7027, 7808, 8673, 1915, 7047, 1609, 7378, 388, 1778, 6787, 6373, 13560, 4275, 5518, 4873, 7545, 8362, 5687, 13426, 6420, 9844, 9146, 11702, 5778, 2362, 8075, 13189, 14381, 5237, 9414, 11190, 2841, 12396, 3443, 3297, 10094, 12400, 5941, 8841, 3737, 6437, 132, 9050, 10355, 10465, 8348, 11489, 2024, 1160, 6680, 4994, 9384, 7555, 1674, 10113, 2504, 8762, 488, 12364, 262, 12690, 10522, 7055, 8412, 14120, 7817, 9696, 14286, 4870, 5302, 2590, 7605, 5973, 13150, 10379, 3008, 14380, 8451, 12353, 8524, 12726, 2564, 3992, 14459, 11160, 11090, 9903, 785, 10438, 8085, 6369, 4212, 11586, 7459, 5334, 12707, 9275, 7426, 718, 13869, 5488, 11951, 11927, 13631, 9422, 961, 9449, 3655, 4619, 3319, 1178, 12761, 9595, 4729, 11853, 2829, 10261, 12805, 9084, 13656, 1138, 4820, 9401, 10430, 3303, 2534, 3644, 2695, 2332, 12192, 425, 1256, 7131, 7172, 5088, 8238, 7499, 997, 3097, 8978, 12417, 9364, 4335, 12844, 3945, 13107, 8866, 1383, 6483, 2743, 9372, 9967, 8910, 8496, 2783, 6817, 2824, 10418, 12774, 3645, 7276, 11615, 11523, 2217, 7988, 11089, 877, 13709, 8265, 4964, 3866, 1863, 15, 3428, 14483, 3442, 9581, 1111, 9563, 899, 3832, 8613, 10905, 8430, 12420, 11783, 535, 12701, 5907, 3796, 4806, 633, 5490, 3604, 13516, 6407, 12782, 1088, 12637]\n"
     ]
    },
    {
     "name": "stderr",
     "output_type": "stream",
     "text": [
      "<ipython-input-32-a7a488438cad>:28: SettingWithCopyWarning: \n",
      "A value is trying to be set on a copy of a slice from a DataFrame\n",
      "\n",
      "See the caveats in the documentation: https://pandas.pydata.org/pandas-docs/stable/user_guide/indexing.html#returning-a-view-versus-a-copy\n",
      "  noisy_data[\"label\"][i] = 0\n",
      "<ipython-input-32-a7a488438cad>:24: SettingWithCopyWarning: \n",
      "A value is trying to be set on a copy of a slice from a DataFrame\n",
      "\n",
      "See the caveats in the documentation: https://pandas.pydata.org/pandas-docs/stable/user_guide/indexing.html#returning-a-view-versus-a-copy\n",
      "  noisy_data[\"label\"][i] = 1\n"
     ]
    }
   ],
   "source": [
    "regularfile_path = \"./CY_Dataset/2021_04_21_test/test_regular.csv\" \n",
    "output_path = \"./CY_Dataset/2021_04_21_test/\"\n",
    "\n",
    "noisy_data = pd.read_csv(regularfile_path) #讀取正規化後的 csv。\n",
    "\n",
    "noisy_number = 3000 #要污染的數量。  \n",
    "noisy_index = random.sample(range(0,len(noisy_data)),noisy_number) #取 samle_number 個不重複隨機數\n",
    "print(\"noisy rate : %.5f\"%(noisy_number/len(noisy_data)),end='\\n') #顯示污染比例\n",
    "print(noisy_index)\n",
    "#反轉隨機 Sample 的 Label 值，並寫入 csv。\n",
    "with open(output_path + \"test_noisy.csv\", 'w', newline='') as csvfile:\n",
    "    \n",
    "    writer = csv.writer(csvfile)\n",
    "    \n",
    "    #寫入欄位名稱\n",
    "    writer.writerow(column)  \n",
    "    \n",
    "    for i in range(len(noisy_data)):\n",
    "        \n",
    "        if i in noisy_index:\n",
    "            \n",
    "            if(noisy_data[\"label\"][i] == 0):         \n",
    "\n",
    "                noisy_data[\"label\"][i] = 1\n",
    "                \n",
    "            else:\n",
    "            \n",
    "                noisy_data[\"label\"][i] = 0\n",
    "\n",
    "        writer.writerow(noisy_data.loc[i])"
   ]
  },
  {
   "cell_type": "markdown",
   "metadata": {},
   "source": [
    "# Function：WS and DS"
   ]
  },
  {
   "cell_type": "code",
   "execution_count": 33,
   "metadata": {},
   "outputs": [],
   "source": [
    "def dataset(data):\n",
    "    \n",
    "    # Whole Set\n",
    "    WS_x = data.drop([\"file_name\",\"label\"], axis = 1)\n",
    "    WS_y = data[\"label\"]\n",
    "\n",
    "    #----------------------------------------------------------------------\n",
    "\n",
    "    # Downsampling Set\n",
    "    sample_number = 10\n",
    "    index = random.sample(range(0,len(WS_x)),sample_number)     #取 samle_number 個 不重複隨機數\n",
    "    print(index)\n",
    "    DS_x = WS_x.loc[index]\n",
    "    DS_y = WS_y.loc[index]\n",
    "\n",
    "    #----------------------------------------------------------------------\n",
    "\n",
    "    # df -> np\n",
    "    WS_x = WS_x.values\n",
    "    WS_y = WS_y.values\n",
    " \n",
    "    DS_x = DS_x.values\n",
    "    DS_y = DS_y.values\n",
    "    \n",
    "    return (WS_x,WS_y,DS_x,DS_y)"
   ]
  },
  {
   "cell_type": "markdown",
   "metadata": {},
   "source": [
    "# Function：Building Model"
   ]
  },
  {
   "cell_type": "code",
   "execution_count": 11,
   "metadata": {},
   "outputs": [],
   "source": [
    "def build_model():\n",
    "    \n",
    "    model_input = layers.Input(shape=10)\n",
    "    x = layers.Dense(500,activation='relu', kernel_initializer = 'normal')(model_input)\n",
    "    x = layers.Dense(1000,activation='relu', kernel_initializer = 'normal')(x)\n",
    "    model_output = layers.Dense(1,activation='softmax', kernel_initializer = 'normal')(x)\n",
    "    \n",
    "    return Model(model_input ,model_output)"
   ]
  },
  {
   "cell_type": "markdown",
   "metadata": {},
   "source": [
    "# Function : Outlier Detection"
   ]
  },
  {
   "cell_type": "code",
   "execution_count": 12,
   "metadata": {},
   "outputs": [],
   "source": [
    "def outlier_detection(loss):\n",
    "    \n",
    "    abod = ABOD().fit(loss)\n",
    "\n",
    "    print(abod.decision_function(loss))\n",
    "    "
   ]
  },
  {
   "cell_type": "markdown",
   "metadata": {},
   "source": [
    "# Main - 前置動作"
   ]
  },
  {
   "cell_type": "code",
   "execution_count": 41,
   "metadata": {},
   "outputs": [],
   "source": [
    "iteration = 1      #噪聲標籤檢測迭代次數\n",
    "epoch = 50         #訓練次數\n",
    "\n",
    "#第一次先載入原始檔案，之後每次迭代都會用 Reverse 過後的資料。\n",
    "noisy_path = \"./CY_Dataset/2021_04_21_test/test_noisy.csv\" #Noisy data path\n",
    "data = pd.read_csv(noisy_path) #取得已經增加 Noise 的 Data。"
   ]
  },
  {
   "cell_type": "markdown",
   "metadata": {},
   "source": [
    "# Main - 進入迭代"
   ]
  },
  {
   "cell_type": "code",
   "execution_count": 42,
   "metadata": {},
   "outputs": [
    {
     "name": "stdout",
     "output_type": "stream",
     "text": [
      "[6444, 10317, 6458, 3092, 7915, 14523, 8302, 4414, 8749, 1124]\n",
      "Iteration : 1\n",
      "[11298, 7319, 9120, 3628, 6388, 7678, 2396, 14333, 713, 10560]\n",
      "\n",
      " Epoch : 1 ...\n",
      "\n",
      " Epoch : 2 ...\n",
      "\n",
      " Epoch : 3 ...\n",
      "\n",
      " Epoch : 4 ...\n",
      "\n",
      " Epoch : 5 ...\n",
      "\n",
      " Epoch : 6 ...\n",
      "\n",
      " Epoch : 7 ...\n",
      "\n",
      " Epoch : 8 ...\n",
      "\n",
      " Epoch : 9 ...\n",
      "\n",
      " Epoch : 10 ...\n",
      "\n",
      " Epoch : 11 ...\n",
      "\n",
      " Epoch : 12 ...\n",
      "\n",
      " Epoch : 13 ...\n",
      "\n",
      " Epoch : 14 ...\n",
      "\n",
      " Epoch : 15 ...\n",
      "\n",
      " Epoch : 16 ...\n",
      "\n",
      " Epoch : 17 ...\n",
      "\n",
      " Epoch : 18 ...\n",
      "\n",
      " Epoch : 19 ...\n",
      "\n",
      " Epoch : 20 ...\n",
      "\n",
      " Epoch : 21 ...\n",
      "\n",
      " Epoch : 22 ...\n",
      "\n",
      " Epoch : 23 ...\n",
      "\n",
      " Epoch : 24 ...\n",
      "\n",
      " Epoch : 25 ...\n",
      "\n",
      " Epoch : 26 ...\n",
      "\n",
      " Epoch : 27 ...\n",
      "\n",
      " Epoch : 28 ...\n",
      "\n",
      " Epoch : 29 ...\n",
      "\n",
      " Epoch : 30 ...\n",
      "\n",
      " Epoch : 31 ...\n",
      "\n",
      " Epoch : 32 ...\n",
      "\n",
      " Epoch : 33 ...\n",
      "\n",
      " Epoch : 34 ...\n",
      "\n",
      " Epoch : 35 ...\n",
      "\n",
      " Epoch : 36 ...\n",
      "\n",
      " Epoch : 37 ...\n",
      "\n",
      " Epoch : 38 ...\n",
      "\n",
      " Epoch : 39 ...\n",
      "\n",
      " Epoch : 40 ...\n",
      "\n",
      " Epoch : 41 ...\n",
      "\n",
      " Epoch : 42 ...\n",
      "\n",
      " Epoch : 43 ...\n",
      "\n",
      " Epoch : 44 ...\n",
      "\n",
      " Epoch : 45 ...\n",
      "\n",
      " Epoch : 46 ...\n",
      "\n",
      " Epoch : 47 ...\n",
      "\n",
      " Epoch : 48 ...\n",
      "\n",
      " Epoch : 49 ...\n",
      "\n",
      " Epoch : 50 ...\n",
      "[-9.69930294e-07 -7.58716189e-01 -2.43795006e+00 -5.91126806e-03\n",
      " -3.39663699e+00 -2.82585037e-01 -8.80814918e-01 -1.09841511e+00\n",
      " -9.72916206e-04 -6.89533325e-01]\n",
      "\n",
      "Total time : 92.832352 s\n"
     ]
    }
   ],
   "source": [
    "start = time.time() #紀錄迭代開始的時間  \n",
    "for i in range(iteration):  \n",
    "    \n",
    "    #每次迭代都要清空 Loss 值\n",
    "    WS_loss = []\n",
    "    DS_loss = []\n",
    "    concatenate_loss = []\n",
    "    \n",
    "    #初始化 DS 大小的陣列，用來存 Loss 值 (不取值，只取 Sample 數)。\n",
    "    for k in range(len(dataset(data)[2])): #k值用來處理 loss 迴圈\n",
    "    \n",
    "        WS_loss.append([])\n",
    "        DS_loss.append([])\n",
    "        concatenate_loss.append([])\n",
    "    \n",
    "    print(\"Iteration : %d\"%(i+1))\n",
    "    \n",
    "    #Build_WS_model\n",
    "    WS_model = build_model()\n",
    "    WS_model.compile(loss='binary_crossentropy', optimizer='adam', metrics=['accuracy'])\n",
    "    #----------------------------------------------------------------------\n",
    "    \n",
    "    #Build_DS_model\n",
    "    DS_model = build_model()\n",
    "    DS_model.compile(loss='binary_crossentropy', optimizer='adam', metrics=['accuracy'])\n",
    "    #----------------------------------------------------------------------\n",
    "    \n",
    "    #抓取 Data Set\n",
    "    train_data = dataset(data) #第一次迭代時的 Data 為還沒 Reverse 過的原始資料。\n",
    "    WS_x = train_data[0]\n",
    "    WS_y = train_data[1]\n",
    "    DS_x = train_data[2]\n",
    "    DS_y = train_data[3]\n",
    "    #----------------------------------------------------------------------\n",
    "\n",
    "    #Train_model\n",
    "    for j in range(epoch):\n",
    "       \n",
    "        WS_model.fit(WS_x,WS_y,epochs = 1, batch_size = 10000 , verbose = 0)\n",
    "        DS_model.fit(DS_x,DS_y,epochs = 1, batch_size = 1000 , verbose = 0)\n",
    "\n",
    "        for k in range(len(DS_x)): #k值用來處理 loss 迴圈\n",
    "\n",
    "            loss_x = DS_x[k].reshape(1,10)\n",
    "            loss_y = DS_y[k].reshape(1,1)\n",
    "\n",
    "            #取出 loss 值\n",
    "            WS_loss[k].append(WS_model.evaluate(loss_x,loss_y,verbose=0)[0])\n",
    "            DS_loss[k].append(DS_model.evaluate(loss_x,loss_y,verbose=0)[0])\n",
    "        \n",
    "        print(\"\\n Epoch : %d ...\"%(j+1),end=\"\\n\")\n",
    "    #----------------------------------------------------------------------\n",
    "    \n",
    "    #合併 Loss 值\n",
    "    for k in range(len(DS_x)): #k值用來處理 loss 迴圈\n",
    "        \n",
    "        concatenate_loss[k] = WS_loss[k] + DS_loss[k] \n",
    "    \n",
    "    #----------------------------------------------------------------------\n",
    "    \n",
    "    #Outlier_detection (使用剛剛收集 DS 中每個 Sample 的 Loss 值)\n",
    "    outlier_detection(concatenate_loss)\n",
    "    \n",
    "    \n",
    "    \n",
    "    \n",
    "    #----------------------------------------------------------------------\n",
    "    \n",
    "    #Reverse_label\n",
    "    \n",
    "    \n",
    "    \n",
    "    #----------------------------------------------------------------------\n",
    "    \n",
    "#處理結束\n",
    "end = time.time()\n",
    "print()\n",
    "print(\"Total time : %8f s\"%(end-start),end=\"\\n\")"
   ]
  },
  {
   "cell_type": "code",
   "execution_count": 52,
   "metadata": {},
   "outputs": [
    {
     "data": {
      "image/png": "[encoded data removed]",
      "text/plain": [
       "<Figure size 432x288 with 1 Axes>"
      ]
     },
     "metadata": {
      "needs_background": "light"
     },
     "output_type": "display_data"
    }
   ],
   "source": [
    "plt.plot(WS_loss[0])\n",
    "plt.plot(DS_loss[0])\n",
    "#plt.plot(concatenate_loss[0])\n",
    "plt.title('loss')\n",
    "plt.ylabel('loss')\n",
    "plt.xlabel('epoch')\n",
    "plt.legend([\"WS_loss\",\"DS_loss\",\"con_loss\"], loc='upper right') \n",
    "plt.show()\n"
   ]
  },
  {
   "cell_type": "code",
   "execution_count": 156,
   "metadata": {},
   "outputs": [
    {
     "ename": "NameError",
     "evalue": "name 'history' is not defined",
     "output_type": "error",
     "traceback": [
      "\u001b[0;31m---------------------------------------------------------------------------\u001b[0m",
      "\u001b[0;31mNameError\u001b[0m                                 Traceback (most recent call last)",
      "\u001b[0;32m<ipython-input-156-ae9239f7a6f3>\u001b[0m in \u001b[0;36m<module>\u001b[0;34m\u001b[0m\n\u001b[0;32m----> 1\u001b[0;31m \u001b[0mloss\u001b[0m \u001b[0;34m=\u001b[0m \u001b[0mhistory\u001b[0m\u001b[0;34m.\u001b[0m\u001b[0mhistory\u001b[0m\u001b[0;34m[\u001b[0m\u001b[0;34m\"loss\"\u001b[0m\u001b[0;34m]\u001b[0m\u001b[0;34m\u001b[0m\u001b[0;34m\u001b[0m\u001b[0m\n\u001b[0m\u001b[1;32m      2\u001b[0m \u001b[0mprint\u001b[0m\u001b[0;34m(\u001b[0m\u001b[0mloss\u001b[0m\u001b[0;34m)\u001b[0m\u001b[0;34m\u001b[0m\u001b[0;34m\u001b[0m\u001b[0m\n\u001b[1;32m      3\u001b[0m \u001b[0mloss\u001b[0m \u001b[0;34m=\u001b[0m \u001b[0mnp\u001b[0m\u001b[0;34m.\u001b[0m\u001b[0masarray\u001b[0m\u001b[0;34m(\u001b[0m\u001b[0mloss\u001b[0m\u001b[0;34m)\u001b[0m\u001b[0;34m\u001b[0m\u001b[0;34m\u001b[0m\u001b[0m\n\u001b[1;32m      4\u001b[0m \u001b[0mloss\u001b[0m \u001b[0;34m=\u001b[0m \u001b[0mloss\u001b[0m\u001b[0;34m.\u001b[0m\u001b[0mreshape\u001b[0m\u001b[0;34m(\u001b[0m\u001b[0;34m-\u001b[0m\u001b[0;36m1\u001b[0m\u001b[0;34m,\u001b[0m\u001b[0;36m1\u001b[0m\u001b[0;34m)\u001b[0m\u001b[0;34m\u001b[0m\u001b[0;34m\u001b[0m\u001b[0m\n\u001b[1;32m      5\u001b[0m \u001b[0;34m\u001b[0m\u001b[0m\n",
      "\u001b[0;31mNameError\u001b[0m: name 'history' is not defined"
     ]
    }
   ],
   "source": [
    "loss = history.history[\"loss\"]\n",
    "print(loss)\n",
    "loss = np.asarray(loss)\n",
    "loss = loss.reshape(-1,1)\n",
    "\n",
    "abod = ABOD().fit(loss)\n",
    "\n",
    "print(abod.decision_function(loss))"
   ]
  },
  {
   "cell_type": "code",
   "execution_count": null,
   "metadata": {},
   "outputs": [],
   "source": []
  }
 ],
 "metadata": {
  "kernelspec": {
   "display_name": "DT",
   "language": "python",
   "name": "dt"
  },
  "language_info": {
   "codemirror_mode": {
    "name": "ipython",
    "version": 3
   },
   "file_extension": ".py",
   "mimetype": "text/x-python",
   "name": "python",
   "nbconvert_exporter": "python",
   "pygments_lexer": "ipython3",
   "version": "3.8.0"
  }
 },
 "nbformat": 4,
 "nbformat_minor": 4
}
