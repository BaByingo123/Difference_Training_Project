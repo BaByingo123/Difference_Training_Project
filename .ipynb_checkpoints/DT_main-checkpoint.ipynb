{
 "cells": [
  {
   "cell_type": "code",
   "execution_count": 7,
   "metadata": {},
   "outputs": [],
   "source": [
    "import tensorflow as tf\n",
    "import numpy as np\n",
    "import pandas as pd\n",
    "import csv\n",
    "import matplotlib.pyplot as plt\n",
    "import random\n",
    "import time\n",
    "from sklearn import manifold\n",
    "\n",
    "#Building model\n",
    "from keras.models import Sequential\n",
    "from keras.layers import Dense\n",
    "\n",
    "from keras import layers\n",
    "from keras.models import Model\n",
    "\n",
    "#Outlier method\n",
    "from Outlier_Detection.pyod.pyod.models.abod import ABOD \n"
   ]
  },
  {
   "cell_type": "markdown",
   "metadata": {},
   "source": [
    "# 1. Pre-processing"
   ]
  },
  {
   "cell_type": "code",
   "execution_count": 8,
   "metadata": {},
   "outputs": [
    {
     "name": "stderr",
     "output_type": "stream",
     "text": [
      "<ipython-input-8-1d2ee4f612d9>:26: SettingWithCopyWarning: \n",
      "A value is trying to be set on a copy of a slice from a DataFrame\n",
      "\n",
      "See the caveats in the documentation: https://pandas.pydata.org/pandas-docs/stable/user_guide/indexing.html#returning-a-view-versus-a-copy\n",
      "  data[\"label\"][i] = 1\n"
     ]
    }
   ],
   "source": [
    "input_path = \"./CY_Dataset/2021_04_21_test/2021_04_21_test.csv\"\n",
    "output_path = \"./CY_Dataset/2021_04_21_test/\"\n",
    "\n",
    "#設定顯示到小數點後第幾位 (可以不用設，實際還是保留原本長度，只是顯示上會變短)\n",
    "#pd.options.display.float_format = '{:.16f}'.format\n",
    "\n",
    "#讀檔 (header需設為 None，預設以 index 0 為欄位名稱)\n",
    "data = pd.read_csv(input_path,header=None)\n",
    "\n",
    "#自定義 欄位名稱\n",
    "column = [\"file_name\",\"f_1\",\"f_2\",\"f_3\",\"f_4\",\"f_5\",\"f_6\",\"f_7\",\"f_8\",\"f_9\",\"f_10\",\"label\"]\n",
    "data.columns = column\n",
    "\n",
    "#正規化 -> 把不是 0 (false) 的全部變成 1 (true)，並產生一個新的 csv 。\n",
    "with open(output_path + \"test_regular.csv\", 'w', newline='') as csvfile:\n",
    "    \n",
    "    writer = csv.writer(csvfile)\n",
    "    \n",
    "    #寫入欄位名稱\n",
    "    writer.writerow(column)  \n",
    "    \n",
    "    for i in range(len(data)):\n",
    "        \n",
    "        if(data[\"label\"][i] != 0):         #找出不是 0 的 label 值\n",
    "            \n",
    "            data[\"label\"][i] = 1\n",
    "\n",
    "        writer.writerow(data.loc[i])\n"
   ]
  },
  {
   "cell_type": "markdown",
   "metadata": {},
   "source": [
    "# 2. Noisy Data"
   ]
  },
  {
   "cell_type": "code",
   "execution_count": 9,
   "metadata": {},
   "outputs": [
    {
     "name": "stdout",
     "output_type": "stream",
     "text": [
      "noisy rate : 0.20631\n"
     ]
    },
    {
     "name": "stderr",
     "output_type": "stream",
     "text": [
      "<ipython-input-9-931d6bb1eea2>:28: SettingWithCopyWarning: \n",
      "A value is trying to be set on a copy of a slice from a DataFrame\n",
      "\n",
      "See the caveats in the documentation: https://pandas.pydata.org/pandas-docs/stable/user_guide/indexing.html#returning-a-view-versus-a-copy\n",
      "  noisy_data[\"label\"][i] = 0\n",
      "<ipython-input-9-931d6bb1eea2>:24: SettingWithCopyWarning: \n",
      "A value is trying to be set on a copy of a slice from a DataFrame\n",
      "\n",
      "See the caveats in the documentation: https://pandas.pydata.org/pandas-docs/stable/user_guide/indexing.html#returning-a-view-versus-a-copy\n",
      "  noisy_data[\"label\"][i] = 1\n"
     ]
    }
   ],
   "source": [
    "regularfile_path = \"./CY_Dataset/2021_04_21_test/test_regular.csv\" \n",
    "output_path = \"./CY_Dataset/2021_04_21_test/\"\n",
    "\n",
    "noisy_data = pd.read_csv(regularfile_path) #讀取正規化後的 csv。\n",
    "\n",
    "noisy_number = 3000 #要污染的數量。  \n",
    "noisy_index = random.sample(range(0,len(noisy_data)),noisy_number) #取 samle_number 個不重複隨機數\n",
    "print(\"noisy rate : %.5f\"%(noisy_number/len(noisy_data)),end='\\n') #顯示污染比例\n",
    "\n",
    "#反轉隨機 Sample 的 Label 值，並寫入 csv。\n",
    "with open(output_path + \"test_noisy.csv\", 'w', newline='') as csvfile:\n",
    "    \n",
    "    writer = csv.writer(csvfile)\n",
    "    \n",
    "    #寫入欄位名稱\n",
    "    writer.writerow(column)  \n",
    "    \n",
    "    for i in range(len(noisy_data)):\n",
    "        \n",
    "        if i in noisy_index:\n",
    "            \n",
    "            if(noisy_data[\"label\"][i] == 0):         \n",
    "\n",
    "                noisy_data[\"label\"][i] = 1\n",
    "                \n",
    "            else:\n",
    "            \n",
    "                noisy_data[\"label\"][i] = 0\n",
    "\n",
    "        writer.writerow(noisy_data.loc[i])"
   ]
  },
  {
   "cell_type": "markdown",
   "metadata": {},
   "source": [
    "# Function：WS and DS"
   ]
  },
  {
   "cell_type": "code",
   "execution_count": 10,
   "metadata": {},
   "outputs": [],
   "source": [
    "def dataset(data):\n",
    "    \n",
    "    # Whole Set\n",
    "    WS_x = data.drop([\"file_name\",\"label\"], axis = 1)\n",
    "    WS_y = data[\"label\"]\n",
    "\n",
    "    #----------------------------------------------------------------------\n",
    "\n",
    "    # Downsampling Set\n",
    "    sample_number = 10\n",
    "    index = random.sample(range(0,len(WS_x)),sample_number)     #取 samle_number 個 不重複隨機數\n",
    "    DS_x = WS_x.loc[index]\n",
    "    DS_y = WS_y.loc[index]\n",
    "\n",
    "    #----------------------------------------------------------------------\n",
    "\n",
    "    # df -> np\n",
    "    WS_x = WS_x.values\n",
    "    WS_y = WS_y.values\n",
    " \n",
    "    DS_x = DS_x.values\n",
    "    DS_y = DS_y.values\n",
    "    \n",
    "    return (WS_x,WS_y,DS_x,DS_y)"
   ]
  },
  {
   "cell_type": "markdown",
   "metadata": {},
   "source": [
    "# Function：Building Model"
   ]
  },
  {
   "cell_type": "code",
   "execution_count": 11,
   "metadata": {},
   "outputs": [],
   "source": [
    "def build_model():\n",
    "    \n",
    "    model_input = layers.Input(shape=10)\n",
    "    x = layers.Dense(500,activation='relu', kernel_initializer = 'normal')(model_input)\n",
    "    x = layers.Dense(1000,activation='relu', kernel_initializer = 'normal')(x)\n",
    "    model_output = layers.Dense(1,activation='softmax', kernel_initializer = 'normal')(x)\n",
    "    \n",
    "    return Model(model_input ,model_output)"
   ]
  },
  {
   "cell_type": "markdown",
   "metadata": {},
   "source": [
    "# Function : Outlier Detection"
   ]
  },
  {
   "cell_type": "code",
   "execution_count": 12,
   "metadata": {},
   "outputs": [],
   "source": [
    "def outlier_detection(loss):\n",
    "    \n",
    "    abod = ABOD().fit(loss)\n",
    "\n",
    "    print(abod.decision_function(loss))\n",
    "    "
   ]
  },
  {
   "cell_type": "markdown",
   "metadata": {},
   "source": [
    "# Main - 前置動作"
   ]
  },
  {
   "cell_type": "code",
   "execution_count": 14,
   "metadata": {},
   "outputs": [],
   "source": [
    "iteration = 1      #噪聲標籤檢測迭代次數\n",
    "epoch = 10         #訓練次數\n",
    "\n",
    "#第一次先載入原始檔案，之後每次迭代都會用 Reverse 過後的資料。\n",
    "noisy_path = \"./CY_Dataset/2021_04_21_test/test_noisy.csv\" #Noisy data path\n",
    "data = pd.read_csv(noisy_path) #取得已經增加 Noise 的 Data。"
   ]
  },
  {
   "cell_type": "markdown",
   "metadata": {},
   "source": [
    "# Main - 進入迭代"
   ]
  },
  {
   "cell_type": "code",
   "execution_count": 15,
   "metadata": {},
   "outputs": [
    {
     "name": "stdout",
     "output_type": "stream",
     "text": [
      "Iteration : 10\n",
      "\n",
      " Epoch : 1 ...\n",
      "\n",
      " Epoch : 2 ...\n",
      "\n",
      " Epoch : 3 ...\n",
      "\n",
      " Epoch : 4 ...\n",
      "\n",
      " Epoch : 5 ...\n",
      "\n",
      " Epoch : 6 ...\n",
      "\n",
      " Epoch : 7 ...\n",
      "\n",
      " Epoch : 8 ...\n",
      "\n",
      " Epoch : 9 ...\n",
      "\n",
      " Epoch : 10 ...\n",
      "\n",
      "Total time : 17.871406 s\n"
     ]
    }
   ],
   "source": [
    "start = time.time() #紀錄迭代開始的時間  \n",
    "for i in range(iteration):  \n",
    "    \n",
    "    #每次迭代都要清空 Loss 值\n",
    "    WS_loss = []\n",
    "    DS_loss = []\n",
    "    concatenate_loss = []\n",
    "    \n",
    "    #初始化 DS 大小的陣列，用來存 Loss 值 (不取值，只取 Sample 數)。\n",
    "    for k in range(len(dataset(data)[2])): #k值用來處理 loss 迴圈\n",
    "    \n",
    "        WS_loss.append([])\n",
    "        DS_loss.append([])\n",
    "        concatenate_loss.append([])\n",
    "    \n",
    "    print(\"Iteration : %d\"%(i+1))\n",
    "    \n",
    "    #Build_WS_model\n",
    "    WS_model = build_model()\n",
    "    WS_model.compile(loss='binary_crossentropy', optimizer='adam', metrics=['accuracy'])\n",
    "    #----------------------------------------------------------------------\n",
    "    \n",
    "    #Build_DS_model\n",
    "    DS_model = build_model()\n",
    "    DS_model.compile(loss='binary_crossentropy', optimizer='adam', metrics=['accuracy'])\n",
    "    #----------------------------------------------------------------------\n",
    "    \n",
    "    #抓取 Data Set\n",
    "    train_data = dataset(data) #第一次迭代時的 Data 為還沒 Reverse 過的原始資料。\n",
    "    WS_x = train_data[0]\n",
    "    WS_y = train_data[1]\n",
    "    DS_x = train_data[2]\n",
    "    DS_y = train_data[3]\n",
    "    #----------------------------------------------------------------------\n",
    "\n",
    "    #Train_model\n",
    "    for j in range(epoch):\n",
    "       \n",
    "        WS_model.fit(WS_x,WS_y,epochs = 1, batch_size = 10000 , verbose = 0)\n",
    "        DS_model.fit(DS_x,DS_y,epochs = 1, batch_size = 1000 , verbose = 0)\n",
    "\n",
    "        for k in range(len(DS_x)): #k值用來處理 loss 迴圈\n",
    "\n",
    "            loss_x = DS_x[k].reshape(1,10)\n",
    "            loss_y = DS_y[k].reshape(1,1)\n",
    "\n",
    "            #取出 loss 值\n",
    "            WS_loss[k].append(WS_model.evaluate(loss_x,loss_y,verbose=0)[0])\n",
    "            DS_loss[k].append(DS_model.evaluate(loss_x,loss_y,verbose=0)[0])\n",
    "        \n",
    "        print(\"\\n Epoch : %d ...\"%(j+1),end=\"\\n\")\n",
    "    #----------------------------------------------------------------------\n",
    "    \n",
    "    #合併 Loss 值\n",
    "    for k in range(len(DS_x)): #k值用來處理 loss 迴圈\n",
    "        \n",
    "        concatenate_loss[k] = WS_loss[k] + DS_loss[k] \n",
    "    \n",
    "    #----------------------------------------------------------------------\n",
    "    \n",
    "    #Outlier_detection (使用剛剛收集 DS 中每個 Sample 的 Loss 值)\n",
    "    \n",
    "    \n",
    "    \n",
    "    \n",
    "    \n",
    "    #----------------------------------------------------------------------\n",
    "    \n",
    "    #Reverse_label\n",
    "    \n",
    "    \n",
    "    \n",
    "    #----------------------------------------------------------------------\n",
    "    \n",
    "#處理結束\n",
    "end = time.time()\n",
    "print()\n",
    "print(\"Total time : %8f s\"%(end-start),end=\"\\n\")"
   ]
  },
  {
   "cell_type": "code",
   "execution_count": 183,
   "metadata": {},
   "outputs": [
    {
     "data": {
      "image/png": "[encoded data removed]",
      "text/plain": [
       "<Figure size 432x288 with 1 Axes>"
      ]
     },
     "metadata": {
      "needs_background": "light"
     },
     "output_type": "display_data"
    }
   ],
   "source": [
    "plt.plot(WS_loss[0])\n",
    "plt.plot(DS_loss[0])\n",
    "plt.title('loss')\n",
    "plt.ylabel('loss')\n",
    "plt.xlabel('epoch')\n",
    "plt.legend([\"WS_loss\",\"DS_loss\"], loc='upper right') \n",
    "plt.show()\n"
   ]
  },
  {
   "cell_type": "markdown",
   "metadata": {},
   "source": [
    "# Outlier Detection"
   ]
  },
  {
   "cell_type": "code",
   "execution_count": 156,
   "metadata": {},
   "outputs": [
    {
     "ename": "NameError",
     "evalue": "name 'history' is not defined",
     "output_type": "error",
     "traceback": [
      "\u001b[0;31m---------------------------------------------------------------------------\u001b[0m",
      "\u001b[0;31mNameError\u001b[0m                                 Traceback (most recent call last)",
      "\u001b[0;32m<ipython-input-156-ae9239f7a6f3>\u001b[0m in \u001b[0;36m<module>\u001b[0;34m\u001b[0m\n\u001b[0;32m----> 1\u001b[0;31m \u001b[0mloss\u001b[0m \u001b[0;34m=\u001b[0m \u001b[0mhistory\u001b[0m\u001b[0;34m.\u001b[0m\u001b[0mhistory\u001b[0m\u001b[0;34m[\u001b[0m\u001b[0;34m\"loss\"\u001b[0m\u001b[0;34m]\u001b[0m\u001b[0;34m\u001b[0m\u001b[0;34m\u001b[0m\u001b[0m\n\u001b[0m\u001b[1;32m      2\u001b[0m \u001b[0mprint\u001b[0m\u001b[0;34m(\u001b[0m\u001b[0mloss\u001b[0m\u001b[0;34m)\u001b[0m\u001b[0;34m\u001b[0m\u001b[0;34m\u001b[0m\u001b[0m\n\u001b[1;32m      3\u001b[0m \u001b[0mloss\u001b[0m \u001b[0;34m=\u001b[0m \u001b[0mnp\u001b[0m\u001b[0;34m.\u001b[0m\u001b[0masarray\u001b[0m\u001b[0;34m(\u001b[0m\u001b[0mloss\u001b[0m\u001b[0;34m)\u001b[0m\u001b[0;34m\u001b[0m\u001b[0;34m\u001b[0m\u001b[0m\n\u001b[1;32m      4\u001b[0m \u001b[0mloss\u001b[0m \u001b[0;34m=\u001b[0m \u001b[0mloss\u001b[0m\u001b[0;34m.\u001b[0m\u001b[0mreshape\u001b[0m\u001b[0;34m(\u001b[0m\u001b[0;34m-\u001b[0m\u001b[0;36m1\u001b[0m\u001b[0;34m,\u001b[0m\u001b[0;36m1\u001b[0m\u001b[0;34m)\u001b[0m\u001b[0;34m\u001b[0m\u001b[0;34m\u001b[0m\u001b[0m\n\u001b[1;32m      5\u001b[0m \u001b[0;34m\u001b[0m\u001b[0m\n",
      "\u001b[0;31mNameError\u001b[0m: name 'history' is not defined"
     ]
    }
   ],
   "source": [
    "loss = history.history[\"loss\"]\n",
    "print(loss)\n",
    "loss = np.asarray(loss)\n",
    "loss = loss.reshape(-1,1)\n",
    "\n",
    "abod = ABOD().fit(loss)\n",
    "\n",
    "print(abod.decision_function(loss))"
   ]
  },
  {
   "cell_type": "code",
   "execution_count": 5,
   "metadata": {},
   "outputs": [
    {
     "name": "stdout",
     "output_type": "stream",
     "text": [
      "[1, [], [], [], [], []]\n"
     ]
    }
   ],
   "source": [
    "WS_loss = []\n",
    "DS_loss = []\n",
    "for i in range(3): \n",
    "    WS_loss.append([])\n",
    "    DS_loss.append([])\n",
    "WS_loss[0] = 1\n",
    "for i in range(3): \n",
    "    WS_loss.append([])\n",
    "    DS_loss.append([])\n",
    "\n",
    "print(WS_loss)"
   ]
  },
  {
   "cell_type": "code",
   "execution_count": null,
   "metadata": {},
   "outputs": [],
   "source": []
  }
 ],
 "metadata": {
  "kernelspec": {
   "display_name": "DT",
   "language": "python",
   "name": "dt"
  },
  "language_info": {
   "codemirror_mode": {
    "name": "ipython",
    "version": 3
   },
   "file_extension": ".py",
   "mimetype": "text/x-python",
   "name": "python",
   "nbconvert_exporter": "python",
   "pygments_lexer": "ipython3",
   "version": "3.8.0"
  }
 },
 "nbformat": 4,
 "nbformat_minor": 4
}
